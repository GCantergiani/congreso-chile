{
 "cells": [
  {
   "cell_type": "code",
   "execution_count": 62,
   "metadata": {
    "collapsed": true
   },
   "outputs": [],
   "source": [
    "import pandas as pd\n",
    "import urllib.request\n",
    "\n",
    "import xml.etree.ElementTree as ET"
   ]
  },
  {
   "cell_type": "code",
   "execution_count": 11,
   "metadata": {
    "collapsed": true
   },
   "outputs": [],
   "source": [
    "# Diputados\n",
    "# https://www.camara.cl/trabajamos/sala_votacion_detalle.aspx?prmID=25509\n",
    "# http://opendata.congreso.cl/wscamaradiputados.asmx/getVotacion_Detalle?prmVotacionID=25509"
   ]
  },
  {
   "cell_type": "code",
   "execution_count": 82,
   "metadata": {
    "collapsed": true
   },
   "outputs": [],
   "source": [
    "ID_VOTE = 25509\n",
    "BASE_URL = 'http://opendata.congreso.cl/wscamaradiputados.asmx/getVotacion_Detalle?prmVotacionID='"
   ]
  },
  {
   "cell_type": "code",
   "execution_count": 84,
   "metadata": {
    "collapsed": false
   },
   "outputs": [],
   "source": [
    "with urllib.request.urlopen(BASE_URL + str(ID_VOTE)) as response:\n",
    "    voting_details_xml = response.read()"
   ]
  },
  {
   "cell_type": "code",
   "execution_count": 85,
   "metadata": {
    "collapsed": false
   },
   "outputs": [
    {
     "data": {
      "text/plain": [
       "'{http://tempuri.org/}Votacion'"
      ]
     },
     "execution_count": 85,
     "metadata": {},
     "output_type": "execute_result"
    }
   ],
   "source": [
    "root = ET.fromstring(voting_details_xml)\n",
    "root.tag"
   ]
  },
  {
   "cell_type": "code",
   "execution_count": 87,
   "metadata": {
    "collapsed": false
   },
   "outputs": [],
   "source": [
    "DIPUTADO, OPCION = 0, 1\n",
    "\n",
    "list_to_pandas = []\n",
    "\n",
    "for child in root:    \n",
    "    \n",
    "    if child.tag == '{http://tempuri.org/}Votos':\n",
    "    \n",
    "        for second_level in child:\n",
    "        \n",
    "            diputado = second_level.getchildren()[DIPUTADO]\n",
    "            \n",
    "            dip_id = diputado.find('{http://tempuri.org/}DIPID').text\n",
    "            \n",
    "            dip_name = diputado.find('{http://tempuri.org/}Nombre').text\n",
    "            dip_name = dip_name + ' ' + diputado.find('{http://tempuri.org/}Apellido_Paterno').text\n",
    "            dip_name = dip_name + ' ' + diputado.find('{http://tempuri.org/}Apellido_Materno').text\n",
    "            \n",
    "            type_vote = second_level.getchildren()[OPCION].text\n",
    "            \n",
    "            list_to_pandas.append((ID_VOTE, dip_id, dip_name, type_vote))"
   ]
  },
  {
   "cell_type": "code",
   "execution_count": 91,
   "metadata": {
    "collapsed": false
   },
   "outputs": [
    {
     "data": {
      "text/html": [
       "<div>\n",
       "<table border=\"1\" class=\"dataframe\">\n",
       "  <thead>\n",
       "    <tr style=\"text-align: right;\">\n",
       "      <th></th>\n",
       "      <th>id_vote</th>\n",
       "      <th>id_legislator</th>\n",
       "      <th>name</th>\n",
       "      <th>type</th>\n",
       "    </tr>\n",
       "  </thead>\n",
       "  <tbody>\n",
       "    <tr>\n",
       "      <th>56</th>\n",
       "      <td>25509</td>\n",
       "      <td>874</td>\n",
       "      <td>Claudia Nogueira Fernández</td>\n",
       "      <td>AFIRMATIVO</td>\n",
       "    </tr>\n",
       "    <tr>\n",
       "      <th>4</th>\n",
       "      <td>25509</td>\n",
       "      <td>969</td>\n",
       "      <td>Claudio Arriagada Macaya</td>\n",
       "      <td>AFIRMATIVO</td>\n",
       "    </tr>\n",
       "    <tr>\n",
       "      <th>55</th>\n",
       "      <td>25509</td>\n",
       "      <td>992</td>\n",
       "      <td>Juan Enrique Morano Cornejo</td>\n",
       "      <td>AFIRMATIVO</td>\n",
       "    </tr>\n",
       "    <tr>\n",
       "      <th>78</th>\n",
       "      <td>25509</td>\n",
       "      <td>898</td>\n",
       "      <td>Gabriel Silber Romo</td>\n",
       "      <td>AFIRMATIVO</td>\n",
       "    </tr>\n",
       "    <tr>\n",
       "      <th>35</th>\n",
       "      <td>25509</td>\n",
       "      <td>986</td>\n",
       "      <td>Marcela Hernando Pérez</td>\n",
       "      <td>AFIRMATIVO</td>\n",
       "    </tr>\n",
       "    <tr>\n",
       "      <th>43</th>\n",
       "      <td>25509</td>\n",
       "      <td>177</td>\n",
       "      <td>Felipe Letelier Norambuena</td>\n",
       "      <td>AFIRMATIVO</td>\n",
       "    </tr>\n",
       "    <tr>\n",
       "      <th>52</th>\n",
       "      <td>25509</td>\n",
       "      <td>867</td>\n",
       "      <td>Cristián Monckeberg Bruner</td>\n",
       "      <td>AFIRMATIVO</td>\n",
       "    </tr>\n",
       "    <tr>\n",
       "      <th>83</th>\n",
       "      <td>25509</td>\n",
       "      <td>956</td>\n",
       "      <td>Guillermo Teillier Del Valle</td>\n",
       "      <td>AFIRMATIVO</td>\n",
       "    </tr>\n",
       "    <tr>\n",
       "      <th>5</th>\n",
       "      <td>25509</td>\n",
       "      <td>925</td>\n",
       "      <td>Pepe Auth Stewart</td>\n",
       "      <td>AFIRMATIVO</td>\n",
       "    </tr>\n",
       "    <tr>\n",
       "      <th>65</th>\n",
       "      <td>25509</td>\n",
       "      <td>998</td>\n",
       "      <td>Yasna Provoste Campillay</td>\n",
       "      <td>AFIRMATIVO</td>\n",
       "    </tr>\n",
       "  </tbody>\n",
       "</table>\n",
       "</div>"
      ],
      "text/plain": [
       "    id_vote id_legislator                          name        type\n",
       "56    25509           874    Claudia Nogueira Fernández  AFIRMATIVO\n",
       "4     25509           969      Claudio Arriagada Macaya  AFIRMATIVO\n",
       "55    25509           992   Juan Enrique Morano Cornejo  AFIRMATIVO\n",
       "78    25509           898           Gabriel Silber Romo  AFIRMATIVO\n",
       "35    25509           986        Marcela Hernando Pérez  AFIRMATIVO\n",
       "43    25509           177    Felipe Letelier Norambuena  AFIRMATIVO\n",
       "52    25509           867    Cristián Monckeberg Bruner  AFIRMATIVO\n",
       "83    25509           956  Guillermo Teillier Del Valle  AFIRMATIVO\n",
       "5     25509           925             Pepe Auth Stewart  AFIRMATIVO\n",
       "65    25509           998      Yasna Provoste Campillay  AFIRMATIVO"
      ]
     },
     "execution_count": 91,
     "metadata": {},
     "output_type": "execute_result"
    }
   ],
   "source": [
    "df = pd.DataFrame(list_to_pandas, columns=['id_vote','id_legislator','name','type']) \n",
    "df.sample(10)"
   ]
  }
 ],
 "metadata": {
  "kernelspec": {
   "display_name": "Python 3",
   "language": "python",
   "name": "python3"
  },
  "language_info": {
   "codemirror_mode": {
    "name": "ipython",
    "version": 3
   },
   "file_extension": ".py",
   "mimetype": "text/x-python",
   "name": "python",
   "nbconvert_exporter": "python",
   "pygments_lexer": "ipython3",
   "version": "3.4.3"
  }
 },
 "nbformat": 4,
 "nbformat_minor": 1
}
